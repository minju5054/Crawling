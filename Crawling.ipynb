{
 "cells": [
  {
   "cell_type": "markdown",
   "metadata": {},
   "source": [
    "# 1. Git\n",
    "* 버전관리 시스템의 종류\n",
    "* 버전관리: 여러 파일을 하나의 버전으로 묶어 관리하는 것 "
   ]
  },
  {
   "cell_type": "markdown",
   "metadata": {},
   "source": [
    "### 1-1. 버전관리 시스템의 종류\n",
    "1. 클라이언트 - 서버 모델: 하나의 중앙 서버로 여러 클라이언트들이 각자 필요한 것만 가져와서 작업을 하고 다시 중앙 서버로 보내서 통합하는 방식(SVN, CVS)\n",
    "2. 분산 모델: 하나의 중앙 서버가 존재하지만, 여러 클라이언트들은 각자의 컴퓨터에 저장소에 전체사존을 가지고 작업하는 방식(Git)"
   ]
  },
  {
   "cell_type": "markdown",
   "metadata": {},
   "source": [
    "### 1-2. Git의 장점\n",
    "* 동시에 작업하는 사람들과 소스코드를 주고받을 필요가 없음\n",
    "* 같은 파일을 여러명이 동시에 병렬 개발이 가능\n",
    "* 변동 과정을 체계적으로 관리할 수 있고, 언제든지 지난 시점의 버전으로 되돌릴 수 있음\n",
    "* 인터넷이 연결되지 않은 곳에서도 개발을 진행할 수 있고, 중앙 서버의 데이터가 유실되어도 다시 복구할 수 있음\n"
   ]
  },
  {
   "cell_type": "markdown",
   "metadata": {},
   "source": [
    "### 1-3. Git 설치\n",
    "1. 구글에서 'git 설치' 검색\n",
    "2. 왼쪽 메뉴에서 downloads를 클릭(https://git-scm.com/downloads)\n",
    "3. 모니터 이미지에 있는 다운로드 버튼을 클릭\n",
    "4. 64-bit Git for Windows Setup. 클릭 후 다운로드 및 설치(기본 설정)\n",
    "5. 설치가 끝난 후 git bash를 실행 -> git --version 명령으로 버전을 확인 "
   ]
  },
  {
   "cell_type": "markdown",
   "metadata": {},
   "source": [
    "# 2. Git 명령어\n"
   ]
  },
  {
   "cell_type": "markdown",
   "metadata": {
    "vscode": {
     "languageId": "plaintext"
    }
   },
   "source": [
    "### 2-1. 프로젝트 디렉토리 내 '로컬 저장소'를 생성하기\n",
    "- 원하는 프로젝트 위치로 이동 후 'git init'를 실행\n"
   ]
  },
  {
   "cell_type": "code",
   "execution_count": 1,
   "metadata": {
    "vscode": {
     "languageId": "plaintext"
    }
   },
   "outputs": [
    {
     "name": "stdout",
     "output_type": "stream",
     "text": [
      "Initialized empty Git repository in C:/Minju/AIProject/Jupyter/.git/\n"
     ]
    }
   ],
   "source": [
    "!git init"
   ]
  },
  {
   "cell_type": "markdown",
   "metadata": {},
   "source": [
    "### 2-2. 버전을 관리할 파일을 선택(stage에 올림)"
   ]
  },
  {
   "cell_type": "code",
   "execution_count": null,
   "metadata": {
    "vscode": {
     "languageId": "plaintext"
    }
   },
   "outputs": [],
   "source": [
    "!git add Crawling.ipynb"
   ]
  },
  {
   "cell_type": "markdown",
   "metadata": {},
   "source": [
    "### 2-3. 하나의 버전으로 만들기\n",
    "* 로컬 시스템에서 파일을 생성/수정/삭제한 파일들을 선별하여 버전을 만드는 것\n",
    "* 파일이 변경될 때 변경 사항은 자동으로 저장되지 않음\n",
    "* git에게 새 커밋을 생성하여 변경 사항을 저장하도록 지시"
   ]
  },
  {
   "cell_type": "code",
   "execution_count": null,
   "metadata": {
    "vscode": {
     "languageId": "plaintext"
    }
   },
   "outputs": [],
   "source": [
    "!git commit -m \"첫 커밋\""
   ]
  },
  {
   "cell_type": "code",
   "execution_count": null,
   "metadata": {
    "vscode": {
     "languageId": "plaintext"
    }
   },
   "outputs": [],
   "source": [
    "# 위와 같은 에러가 발생한 경우\n",
    "!git config --global user.email \"minju5054@gmail.com\"\n",
    "!git config --global user.name \"조민주\" "
   ]
  },
  {
   "cell_type": "code",
   "execution_count": null,
   "metadata": {
    "vscode": {
     "languageId": "plaintext"
    }
   },
   "outputs": [],
   "source": [
    "# 만약 이메일 또는 이름을 잘못 입력한 경우 등록과 동일하게 진행\n",
    "!git config --global user.email \"minju5054@gmail.com\"\n",
    "!git config --global user.name \"조민주\""
   ]
  },
  {
   "cell_type": "code",
   "execution_count": null,
   "metadata": {
    "vscode": {
     "languageId": "plaintext"
    }
   },
   "outputs": [],
   "source": [
    "!git commit -m \"첫 커밋\""
   ]
  },
  {
   "cell_type": "markdown",
   "metadata": {},
   "source": [
    "### 2-4. 로그 확인하기"
   ]
  },
  {
   "cell_type": "code",
   "execution_count": null,
   "metadata": {
    "vscode": {
     "languageId": "plaintext"
    }
   },
   "outputs": [],
   "source": [
    "!git log"
   ]
  },
  {
   "cell_type": "markdown",
   "metadata": {},
   "source": [
    "### 2-5. README.md 만들기\n",
    "* 깃허브에 업로드시 저장소 메인 설명글로 사용되는 파일\n",
    "* 마크다운으로 작성\n"
   ]
  },
  {
   "cell_type": "markdown",
   "metadata": {},
   "source": [
    "### 2-6. 여러 파일을 함께 선택하기\n",
    "* state에 현재 디렉토리에 있는 변화된 모든 파일을 선택\n"
   ]
  },
  {
   "cell_type": "code",
   "execution_count": null,
   "metadata": {
    "vscode": {
     "languageId": "plaintext"
    }
   },
   "outputs": [],
   "source": [
    "!git add."
   ]
  },
  {
   "cell_type": "markdown",
   "metadata": {},
   "source": [
    "### 2-7. 선택된 여러 파일을 커밋"
   ]
  },
  {
   "cell_type": "code",
   "execution_count": null,
   "metadata": {
    "vscode": {
     "languageId": "plaintext"
    }
   },
   "outputs": [],
   "source": [
    "!git commit -m \"현재 디렉토리에 있는 모든 변경된 파일을 커밋\""
   ]
  },
  {
   "cell_type": "markdown",
   "metadata": {},
   "source": [
    "# **3. 깃허브(GitHub)**\n",
    "* git으로 버전 관리한 코드를 업로드 할 수 있는 클라우드 서비스\n",
    "* 단순히 저장만 하는 것이 아니라 다른 유저들과 함께 코드를 공유하고 온라인으로 하나의 프로젝트를 개발할 수 있게 해줌\n"
   ]
  },
  {
   "cell_type": "markdown",
   "metadata": {},
   "source": [
    "### 3-1. 로컬 저장소에서 github 저장소 주소를 설정"
   ]
  },
  {
   "cell_type": "code",
   "execution_count": null,
   "metadata": {
    "vscode": {
     "languageId": "plaintext"
    }
   },
   "outputs": [],
   "source": [
    "# 레퍼지토리 주소\n",
    "!git remote add origin "
   ]
  },
  {
   "cell_type": "code",
   "execution_count": null,
   "metadata": {
    "vscode": {
     "languageId": "plaintext"
    }
   },
   "outputs": [],
   "source": [
    "# 확인하기\n",
    "!git remote -v"
   ]
  },
  {
   "cell_type": "code",
   "execution_count": null,
   "metadata": {
    "vscode": {
     "languageId": "plaintext"
    }
   },
   "outputs": [],
   "source": [
    "# 삭제하기\n",
    "!git remote remove origin "
   ]
  },
  {
   "cell_type": "markdown",
   "metadata": {},
   "source": [
    "### 3-2. 생성한 커밋(버전들)을 github로 전송하기"
   ]
  },
  {
   "cell_type": "code",
   "execution_count": null,
   "metadata": {
    "vscode": {
     "languageId": "plaintext"
    }
   },
   "outputs": [],
   "source": [
    "# -u: 업스트림. 원격 저장소와 로컬 브랜치가 추적하는 브랜치를 의미. 기본적으로 origin/master 브랜치를 추적함 \n",
    "!git push -u origin master"
   ]
  },
  {
   "cell_type": "markdown",
   "metadata": {},
   "source": [
    "### 3-3. Git Repository Clone\n",
    "* Repository를 로컬 시스템에 복제하는 방법\n",
    "* 지금까지 모든 Repository의 히스토리를 포함 "
   ]
  },
  {
   "cell_type": "code",
   "execution_count": null,
   "metadata": {
    "vscode": {
     "languageId": "plaintext"
    }
   },
   "outputs": [],
   "source": [
    "# 폴더를 생성하고 폴더에 소스코드를 저장\n",
    "!git clone 깃주소"
   ]
  },
  {
   "cell_type": "code",
   "execution_count": null,
   "metadata": {
    "vscode": {
     "languageId": "plaintext"
    }
   },
   "outputs": [],
   "source": [
    "# 폴더를 생성하지 않고 소스코드를 저장\n",
    "!git clone 깃주소 ."
   ]
  },
  {
   "cell_type": "markdown",
   "metadata": {},
   "source": [
    "# **4. 다른 사람과의 협업**\n",
    "원하는 Repository에서 -> Settings -> 왼쪽 메뉴에 collaborators -> Manage access에서 Add people 클릭 -> 이름 또는 이메일을 추가 -> 초대받은 계정의 메일에서 수락 "
   ]
  },
  {
   "cell_type": "markdown",
   "metadata": {},
   "source": [
    "### 4-1. Git Repository Fork\n",
    "* 하나의 Repository를 다른 계정(또는 네임스페이스)으로 복사\n",
    "* Git 명령어가 아닌 Github에서 제공하는 명령어 \n",
    "* 다른 사람의 github 계정 Repository에서 fork를 눌러 내 계정 Repository로 복사 "
   ]
  },
  {
   "cell_type": "markdown",
   "metadata": {},
   "source": [
    "### 4-2. pull\n",
    "* 원격저장소에서 fetch 명령어로 가져온 후 merge까지 한번에 실행하는 명령"
   ]
  },
  {
   "cell_type": "code",
   "execution_count": null,
   "metadata": {
    "vscode": {
     "languageId": "plaintext"
    }
   },
   "outputs": [],
   "source": [
    "!git pull origin"
   ]
  },
  {
   "cell_type": "markdown",
   "metadata": {},
   "source": [
    "### 4-3. fetch\n",
    "* 원격저장소에서 소스를 가져오기(merge를 사용하지 않음)"
   ]
  },
  {
   "cell_type": "markdown",
   "metadata": {},
   "source": [
    "!git fetch origin"
   ]
  },
  {
   "cell_type": "markdown",
   "metadata": {},
   "source": [
    "### 4-4. branch\n",
    "* 작업에 대한 가지\n",
    "* 큰 줄기(master)에 영향을 주지 않고 가지에서만 작업을 별도로 할 수 있음\n",
    "* 브랜치를 사용하여 저장소의 메인 분기에 영향을 미치지 않고 여러 기능이나 버그 수정을 동시에 수행할 수 있음 "
   ]
  },
  {
   "cell_type": "code",
   "execution_count": null,
   "metadata": {
    "vscode": {
     "languageId": "plaintext"
    }
   },
   "outputs": [],
   "source": [
    "!git checkout -b dev"
   ]
  },
  {
   "cell_type": "markdown",
   "metadata": {},
   "source": [
    "# **5. .gitignore 파일**\n",
    "프로젝트에 원하지 않는 백업 파일이나 로그파일 혹은 보안상 문제가 있는 파일들을 git에서 제외시킬 수 있는 설정 파일"
   ]
  },
  {
   "cell_type": "markdown",
   "metadata": {},
   "source": [
    "* 모든 확장자를 제외\n",
    "* *.txt 예) txt파일은 제외\n",
    "\n",
    "* 현재 폴더 중에서 특정 폴더에 있는 모든 파일을 제외\n",
    "* /test 예) test폴더 안에 있는 모든 파일을 제외 \n",
    "\n",
    "* 현재 폴더 중에서 특정 폴더 바로 밑에 있는 특정 파일만 제외\n",
    "* test/*.txt 예) test폴더 안에 txt파일만 제외 "
   ]
  },
  {
   "cell_type": "code",
   "execution_count": null,
   "metadata": {
    "vscode": {
     "languageId": "plaintext"
    }
   },
   "outputs": [],
   "source": [
    "!git add ."
   ]
  },
  {
   "cell_type": "code",
   "execution_count": null,
   "metadata": {
    "vscode": {
     "languageId": "plaintext"
    }
   },
   "outputs": [],
   "source": [
    "!git commit -m \"gitignore 파일 적용 후 커밋\""
   ]
  },
  {
   "cell_type": "code",
   "execution_count": null,
   "metadata": {
    "vscode": {
     "languageId": "plaintext"
    }
   },
   "outputs": [],
   "source": [
    "!git push -u origin dev"
   ]
  },
  {
   "cell_type": "markdown",
   "metadata": {},
   "source": [
    "# **6. AutoCrawler**"
   ]
  },
  {
   "cell_type": "markdown",
   "metadata": {},
   "source": [
    "* https://github.com/YoongiKim/AutoCrawler"
   ]
  },
  {
   "cell_type": "code",
   "execution_count": null,
   "metadata": {
    "vscode": {
     "languageId": "plaintext"
    }
   },
   "outputs": [],
   "source": [
    "!git clone https://github.com/YoongiKim/AutoCrawler"
   ]
  },
  {
   "cell_type": "code",
   "execution_count": null,
   "metadata": {
    "vscode": {
     "languageId": "plaintext"
    }
   },
   "outputs": [],
   "source": [
    "%cd AutoCrawler"
   ]
  },
  {
   "cell_type": "code",
   "execution_count": null,
   "metadata": {
    "vscode": {
     "languageId": "plaintext"
    }
   },
   "outputs": [],
   "source": [
    "!pip install -r requirements.txt "
   ]
  },
  {
   "cell_type": "code",
   "execution_count": null,
   "metadata": {
    "vscode": {
     "languageId": "plaintext"
    }
   },
   "outputs": [],
   "source": [
    "!python main.py --skip true, --google true, --naver true, --face true, --no_gui auto, --limit 250"
   ]
  },
  {
   "cell_type": "code",
   "execution_count": null,
   "metadata": {
    "vscode": {
     "languageId": "plaintext"
    }
   },
   "outputs": [],
   "source": []
  },
  {
   "cell_type": "markdown",
   "metadata": {},
   "source": []
  }
 ],
 "metadata": {
  "kernelspec": {
   "display_name": "Python 3 (ipykernel)",
   "language": "python",
   "name": "python3"
  },
  "language_info": {
   "codemirror_mode": {
    "name": "ipython",
    "version": 3
   },
   "file_extension": ".py",
   "mimetype": "text/x-python",
   "name": "python",
   "nbconvert_exporter": "python",
   "pygments_lexer": "ipython3",
   "version": "3.9.13"
  }
 },
 "nbformat": 4,
 "nbformat_minor": 4
}
